{
 "cells": [
  {
   "cell_type": "code",
   "execution_count": 164,
   "metadata": {},
   "outputs": [],
   "source": [
    "import numpy as np\n",
    "import pandas as pd \n",
    "import matplotlib.pyplot as plt\n",
    "import seaborn as sns\n",
    "sns.set_palette('magma')\n",
    "%matplotlib inline"
   ]
  },
  {
   "cell_type": "code",
   "execution_count": 165,
   "metadata": {},
   "outputs": [],
   "source": [
    "dir = \"hotel_bookings.csv\"\n",
    "\n",
    "df = pd.read_csv(dir)"
   ]
  },
  {
   "cell_type": "code",
   "execution_count": 166,
   "metadata": {},
   "outputs": [
    {
     "name": "stdout",
     "output_type": "stream",
     "text": [
      "<class 'pandas.core.frame.DataFrame'>\n",
      "RangeIndex: 119390 entries, 0 to 119389\n",
      "Data columns (total 32 columns):\n",
      " #   Column                          Non-Null Count   Dtype  \n",
      "---  ------                          --------------   -----  \n",
      " 0   hotel                           119390 non-null  object \n",
      " 1   is_canceled                     119390 non-null  int64  \n",
      " 2   lead_time                       119390 non-null  int64  \n",
      " 3   arrival_date_year               119390 non-null  int64  \n",
      " 4   arrival_date_month              119390 non-null  object \n",
      " 5   arrival_date_week_number        119390 non-null  int64  \n",
      " 6   arrival_date_day_of_month       119390 non-null  int64  \n",
      " 7   stays_in_weekend_nights         119390 non-null  int64  \n",
      " 8   stays_in_week_nights            119390 non-null  int64  \n",
      " 9   adults                          119390 non-null  int64  \n",
      " 10  children                        119386 non-null  float64\n",
      " 11  babies                          119390 non-null  int64  \n",
      " 12  meal                            119390 non-null  object \n",
      " 13  country                         118902 non-null  object \n",
      " 14  market_segment                  119390 non-null  object \n",
      " 15  distribution_channel            119390 non-null  object \n",
      " 16  is_repeated_guest               119390 non-null  int64  \n",
      " 17  previous_cancellations          119390 non-null  int64  \n",
      " 18  previous_bookings_not_canceled  119390 non-null  int64  \n",
      " 19  reserved_room_type              119390 non-null  object \n",
      " 20  assigned_room_type              119390 non-null  object \n",
      " 21  booking_changes                 119390 non-null  int64  \n",
      " 22  deposit_type                    119390 non-null  object \n",
      " 23  agent                           103050 non-null  float64\n",
      " 24  company                         6797 non-null    float64\n",
      " 25  days_in_waiting_list            119390 non-null  int64  \n",
      " 26  customer_type                   119390 non-null  object \n",
      " 27  adr                             119390 non-null  float64\n",
      " 28  required_car_parking_spaces     119390 non-null  int64  \n",
      " 29  total_of_special_requests       119390 non-null  int64  \n",
      " 30  reservation_status              119390 non-null  object \n",
      " 31  reservation_status_date         119390 non-null  object \n",
      "dtypes: float64(4), int64(16), object(12)\n",
      "memory usage: 29.1+ MB\n"
     ]
    }
   ],
   "source": [
    "df.info()"
   ]
  },
  {
   "cell_type": "code",
   "execution_count": 167,
   "metadata": {},
   "outputs": [],
   "source": [
    "import calendar\n",
    "cal = {v: k for k,v in enumerate(calendar.month_name)}\n",
    "df['arrival_date_month'] = df['arrival_date_month'].map(cal)"
   ]
  },
  {
   "cell_type": "code",
   "execution_count": 168,
   "metadata": {},
   "outputs": [
    {
     "data": {
      "text/html": [
       "<div>\n",
       "<style scoped>\n",
       "    .dataframe tbody tr th:only-of-type {\n",
       "        vertical-align: middle;\n",
       "    }\n",
       "\n",
       "    .dataframe tbody tr th {\n",
       "        vertical-align: top;\n",
       "    }\n",
       "\n",
       "    .dataframe thead th {\n",
       "        text-align: right;\n",
       "    }\n",
       "</style>\n",
       "<table border=\"1\" class=\"dataframe\">\n",
       "  <thead>\n",
       "    <tr style=\"text-align: right;\">\n",
       "      <th></th>\n",
       "      <th>hotel</th>\n",
       "      <th>is_canceled</th>\n",
       "      <th>lead_time</th>\n",
       "      <th>arrival_date_year</th>\n",
       "      <th>arrival_date_month</th>\n",
       "      <th>arrival_date_week_number</th>\n",
       "      <th>arrival_date_day_of_month</th>\n",
       "      <th>stays_in_weekend_nights</th>\n",
       "      <th>stays_in_week_nights</th>\n",
       "      <th>adults</th>\n",
       "      <th>...</th>\n",
       "      <th>deposit_type</th>\n",
       "      <th>agent</th>\n",
       "      <th>company</th>\n",
       "      <th>days_in_waiting_list</th>\n",
       "      <th>customer_type</th>\n",
       "      <th>adr</th>\n",
       "      <th>required_car_parking_spaces</th>\n",
       "      <th>total_of_special_requests</th>\n",
       "      <th>reservation_status</th>\n",
       "      <th>reservation_status_date</th>\n",
       "    </tr>\n",
       "  </thead>\n",
       "  <tbody>\n",
       "    <tr>\n",
       "      <th>0</th>\n",
       "      <td>Resort Hotel</td>\n",
       "      <td>0</td>\n",
       "      <td>342</td>\n",
       "      <td>2015</td>\n",
       "      <td>7</td>\n",
       "      <td>27</td>\n",
       "      <td>1</td>\n",
       "      <td>0</td>\n",
       "      <td>0</td>\n",
       "      <td>2</td>\n",
       "      <td>...</td>\n",
       "      <td>No Deposit</td>\n",
       "      <td>NaN</td>\n",
       "      <td>NaN</td>\n",
       "      <td>0</td>\n",
       "      <td>Transient</td>\n",
       "      <td>0.0</td>\n",
       "      <td>0</td>\n",
       "      <td>0</td>\n",
       "      <td>Check-Out</td>\n",
       "      <td>2015-07-01</td>\n",
       "    </tr>\n",
       "    <tr>\n",
       "      <th>1</th>\n",
       "      <td>Resort Hotel</td>\n",
       "      <td>0</td>\n",
       "      <td>737</td>\n",
       "      <td>2015</td>\n",
       "      <td>7</td>\n",
       "      <td>27</td>\n",
       "      <td>1</td>\n",
       "      <td>0</td>\n",
       "      <td>0</td>\n",
       "      <td>2</td>\n",
       "      <td>...</td>\n",
       "      <td>No Deposit</td>\n",
       "      <td>NaN</td>\n",
       "      <td>NaN</td>\n",
       "      <td>0</td>\n",
       "      <td>Transient</td>\n",
       "      <td>0.0</td>\n",
       "      <td>0</td>\n",
       "      <td>0</td>\n",
       "      <td>Check-Out</td>\n",
       "      <td>2015-07-01</td>\n",
       "    </tr>\n",
       "    <tr>\n",
       "      <th>2</th>\n",
       "      <td>Resort Hotel</td>\n",
       "      <td>0</td>\n",
       "      <td>7</td>\n",
       "      <td>2015</td>\n",
       "      <td>7</td>\n",
       "      <td>27</td>\n",
       "      <td>1</td>\n",
       "      <td>0</td>\n",
       "      <td>1</td>\n",
       "      <td>1</td>\n",
       "      <td>...</td>\n",
       "      <td>No Deposit</td>\n",
       "      <td>NaN</td>\n",
       "      <td>NaN</td>\n",
       "      <td>0</td>\n",
       "      <td>Transient</td>\n",
       "      <td>75.0</td>\n",
       "      <td>0</td>\n",
       "      <td>0</td>\n",
       "      <td>Check-Out</td>\n",
       "      <td>2015-07-02</td>\n",
       "    </tr>\n",
       "    <tr>\n",
       "      <th>3</th>\n",
       "      <td>Resort Hotel</td>\n",
       "      <td>0</td>\n",
       "      <td>13</td>\n",
       "      <td>2015</td>\n",
       "      <td>7</td>\n",
       "      <td>27</td>\n",
       "      <td>1</td>\n",
       "      <td>0</td>\n",
       "      <td>1</td>\n",
       "      <td>1</td>\n",
       "      <td>...</td>\n",
       "      <td>No Deposit</td>\n",
       "      <td>304.0</td>\n",
       "      <td>NaN</td>\n",
       "      <td>0</td>\n",
       "      <td>Transient</td>\n",
       "      <td>75.0</td>\n",
       "      <td>0</td>\n",
       "      <td>0</td>\n",
       "      <td>Check-Out</td>\n",
       "      <td>2015-07-02</td>\n",
       "    </tr>\n",
       "    <tr>\n",
       "      <th>4</th>\n",
       "      <td>Resort Hotel</td>\n",
       "      <td>0</td>\n",
       "      <td>14</td>\n",
       "      <td>2015</td>\n",
       "      <td>7</td>\n",
       "      <td>27</td>\n",
       "      <td>1</td>\n",
       "      <td>0</td>\n",
       "      <td>2</td>\n",
       "      <td>2</td>\n",
       "      <td>...</td>\n",
       "      <td>No Deposit</td>\n",
       "      <td>240.0</td>\n",
       "      <td>NaN</td>\n",
       "      <td>0</td>\n",
       "      <td>Transient</td>\n",
       "      <td>98.0</td>\n",
       "      <td>0</td>\n",
       "      <td>1</td>\n",
       "      <td>Check-Out</td>\n",
       "      <td>2015-07-03</td>\n",
       "    </tr>\n",
       "  </tbody>\n",
       "</table>\n",
       "<p>5 rows × 32 columns</p>\n",
       "</div>"
      ],
      "text/plain": [
       "          hotel  is_canceled  lead_time  arrival_date_year  \\\n",
       "0  Resort Hotel            0        342               2015   \n",
       "1  Resort Hotel            0        737               2015   \n",
       "2  Resort Hotel            0          7               2015   \n",
       "3  Resort Hotel            0         13               2015   \n",
       "4  Resort Hotel            0         14               2015   \n",
       "\n",
       "   arrival_date_month  arrival_date_week_number  arrival_date_day_of_month  \\\n",
       "0                   7                        27                          1   \n",
       "1                   7                        27                          1   \n",
       "2                   7                        27                          1   \n",
       "3                   7                        27                          1   \n",
       "4                   7                        27                          1   \n",
       "\n",
       "   stays_in_weekend_nights  stays_in_week_nights  adults  ...  deposit_type  \\\n",
       "0                        0                     0       2  ...    No Deposit   \n",
       "1                        0                     0       2  ...    No Deposit   \n",
       "2                        0                     1       1  ...    No Deposit   \n",
       "3                        0                     1       1  ...    No Deposit   \n",
       "4                        0                     2       2  ...    No Deposit   \n",
       "\n",
       "   agent company days_in_waiting_list customer_type   adr  \\\n",
       "0    NaN     NaN                    0     Transient   0.0   \n",
       "1    NaN     NaN                    0     Transient   0.0   \n",
       "2    NaN     NaN                    0     Transient  75.0   \n",
       "3  304.0     NaN                    0     Transient  75.0   \n",
       "4  240.0     NaN                    0     Transient  98.0   \n",
       "\n",
       "   required_car_parking_spaces  total_of_special_requests  reservation_status  \\\n",
       "0                            0                          0           Check-Out   \n",
       "1                            0                          0           Check-Out   \n",
       "2                            0                          0           Check-Out   \n",
       "3                            0                          0           Check-Out   \n",
       "4                            0                          1           Check-Out   \n",
       "\n",
       "  reservation_status_date  \n",
       "0              2015-07-01  \n",
       "1              2015-07-01  \n",
       "2              2015-07-02  \n",
       "3              2015-07-02  \n",
       "4              2015-07-03  \n",
       "\n",
       "[5 rows x 32 columns]"
      ]
     },
     "execution_count": 168,
     "metadata": {},
     "output_type": "execute_result"
    }
   ],
   "source": [
    "df.head()"
   ]
  },
  {
   "cell_type": "code",
   "execution_count": 169,
   "metadata": {},
   "outputs": [
    {
     "data": {
      "text/plain": [
       "hotel                              0.000000\n",
       "is_canceled                        0.000000\n",
       "lead_time                          0.000000\n",
       "arrival_date_year                  0.000000\n",
       "arrival_date_month                 0.000000\n",
       "arrival_date_week_number           0.000000\n",
       "arrival_date_day_of_month          0.000000\n",
       "stays_in_weekend_nights            0.000000\n",
       "stays_in_week_nights               0.000000\n",
       "adults                             0.000000\n",
       "children                           0.003350\n",
       "babies                             0.000000\n",
       "meal                               0.000000\n",
       "country                            0.408744\n",
       "market_segment                     0.000000\n",
       "distribution_channel               0.000000\n",
       "is_repeated_guest                  0.000000\n",
       "previous_cancellations             0.000000\n",
       "previous_bookings_not_canceled     0.000000\n",
       "reserved_room_type                 0.000000\n",
       "assigned_room_type                 0.000000\n",
       "booking_changes                    0.000000\n",
       "deposit_type                       0.000000\n",
       "agent                             13.686238\n",
       "company                           94.306893\n",
       "days_in_waiting_list               0.000000\n",
       "customer_type                      0.000000\n",
       "adr                                0.000000\n",
       "required_car_parking_spaces        0.000000\n",
       "total_of_special_requests          0.000000\n",
       "reservation_status                 0.000000\n",
       "reservation_status_date            0.000000\n",
       "dtype: float64"
      ]
     },
     "execution_count": 169,
     "metadata": {},
     "output_type": "execute_result"
    }
   ],
   "source": [
    "100 * df.isnull().sum()/len(df)"
   ]
  },
  {
   "cell_type": "code",
   "execution_count": 170,
   "metadata": {},
   "outputs": [],
   "source": [
    "df=df.drop(['agent','company','reservation_status_date'],axis=1)"
   ]
  },
  {
   "cell_type": "code",
   "execution_count": 171,
   "metadata": {},
   "outputs": [],
   "source": [
    "df = df.dropna()"
   ]
  },
  {
   "cell_type": "code",
   "execution_count": 172,
   "metadata": {},
   "outputs": [
    {
     "data": {
      "text/plain": [
       "<matplotlib.axes._subplots.AxesSubplot at 0x20a15962308>"
      ]
     },
     "execution_count": 172,
     "metadata": {},
     "output_type": "execute_result"
    },
    {
     "data": {
      "image/png": "[encoded data removed]",
      "text/plain": [
       "<Figure size 720x576 with 2 Axes>"
      ]
     },
     "metadata": {
      "needs_background": "light"
     },
     "output_type": "display_data"
    }
   ],
   "source": [
    "plt.figure(figsize=(10,8))\n",
    "sns.heatmap(df.corr(),cmap='plasma')"
   ]
  },
  {
   "cell_type": "code",
   "execution_count": 173,
   "metadata": {},
   "outputs": [
    {
     "data": {
      "text/plain": [
       "total_of_special_requests        -0.235643\n",
       "required_car_parking_spaces      -0.194796\n",
       "booking_changes                  -0.144659\n",
       "is_repeated_guest                -0.085179\n",
       "previous_bookings_not_canceled   -0.055493\n",
       "babies                           -0.032521\n",
       "arrival_date_day_of_month        -0.006127\n",
       "stays_in_weekend_nights          -0.002631\n",
       "children                          0.004751\n",
       "arrival_date_week_number          0.007465\n",
       "arrival_date_month                0.010305\n",
       "arrival_date_year                 0.016412\n",
       "stays_in_week_nights              0.024110\n",
       "adr                               0.046199\n",
       "days_in_waiting_list              0.054016\n",
       "adults                            0.058381\n",
       "previous_cancellations            0.109922\n",
       "lead_time                         0.291994\n",
       "Name: is_canceled, dtype: float64"
      ]
     },
     "execution_count": 173,
     "metadata": {},
     "output_type": "execute_result"
    }
   ],
   "source": [
    "df.corr()['is_canceled'][1:].sort_values()"
   ]
  },
  {
   "cell_type": "code",
   "execution_count": 174,
   "metadata": {},
   "outputs": [
    {
     "data": {
      "text/html": [
       "<div>\n",
       "<style scoped>\n",
       "    .dataframe tbody tr th:only-of-type {\n",
       "        vertical-align: middle;\n",
       "    }\n",
       "\n",
       "    .dataframe tbody tr th {\n",
       "        vertical-align: top;\n",
       "    }\n",
       "\n",
       "    .dataframe thead th {\n",
       "        text-align: right;\n",
       "    }\n",
       "</style>\n",
       "<table border=\"1\" class=\"dataframe\">\n",
       "  <thead>\n",
       "    <tr style=\"text-align: right;\">\n",
       "      <th></th>\n",
       "      <th>is_canceled</th>\n",
       "      <th>lead_time</th>\n",
       "      <th>arrival_date_year</th>\n",
       "      <th>arrival_date_week_number</th>\n",
       "      <th>arrival_date_day_of_month</th>\n",
       "      <th>stays_in_weekend_nights</th>\n",
       "      <th>stays_in_week_nights</th>\n",
       "      <th>adults</th>\n",
       "      <th>children</th>\n",
       "      <th>babies</th>\n",
       "      <th>is_repeated_guest</th>\n",
       "      <th>previous_cancellations</th>\n",
       "      <th>previous_bookings_not_canceled</th>\n",
       "      <th>booking_changes</th>\n",
       "      <th>days_in_waiting_list</th>\n",
       "      <th>adr</th>\n",
       "      <th>required_car_parking_spaces</th>\n",
       "      <th>total_of_special_requests</th>\n",
       "    </tr>\n",
       "    <tr>\n",
       "      <th>arrival_date_month</th>\n",
       "      <th></th>\n",
       "      <th></th>\n",
       "      <th></th>\n",
       "      <th></th>\n",
       "      <th></th>\n",
       "      <th></th>\n",
       "      <th></th>\n",
       "      <th></th>\n",
       "      <th></th>\n",
       "      <th></th>\n",
       "      <th></th>\n",
       "      <th></th>\n",
       "      <th></th>\n",
       "      <th></th>\n",
       "      <th></th>\n",
       "      <th></th>\n",
       "      <th></th>\n",
       "      <th></th>\n",
       "    </tr>\n",
       "  </thead>\n",
       "  <tbody>\n",
       "    <tr>\n",
       "      <th>1</th>\n",
       "      <td>0.307457</td>\n",
       "      <td>45.699013</td>\n",
       "      <td>2016.622915</td>\n",
       "      <td>2.982295</td>\n",
       "      <td>16.093803</td>\n",
       "      <td>0.784644</td>\n",
       "      <td>2.199694</td>\n",
       "      <td>1.694586</td>\n",
       "      <td>0.076949</td>\n",
       "      <td>0.008172</td>\n",
       "      <td>0.067586</td>\n",
       "      <td>0.089717</td>\n",
       "      <td>0.296561</td>\n",
       "      <td>0.249234</td>\n",
       "      <td>2.550051</td>\n",
       "      <td>70.633827</td>\n",
       "      <td>0.080865</td>\n",
       "      <td>0.548689</td>\n",
       "    </tr>\n",
       "    <tr>\n",
       "      <th>2</th>\n",
       "      <td>0.336370</td>\n",
       "      <td>48.152771</td>\n",
       "      <td>2016.518597</td>\n",
       "      <td>7.414129</td>\n",
       "      <td>15.777209</td>\n",
       "      <td>0.856715</td>\n",
       "      <td>2.184348</td>\n",
       "      <td>1.794558</td>\n",
       "      <td>0.098228</td>\n",
       "      <td>0.007364</td>\n",
       "      <td>0.051298</td>\n",
       "      <td>0.075761</td>\n",
       "      <td>0.167998</td>\n",
       "      <td>0.191837</td>\n",
       "      <td>0.770220</td>\n",
       "      <td>73.815056</td>\n",
       "      <td>0.063155</td>\n",
       "      <td>0.526460</td>\n",
       "    </tr>\n",
       "    <tr>\n",
       "      <th>3</th>\n",
       "      <td>0.323236</td>\n",
       "      <td>70.479618</td>\n",
       "      <td>2016.508368</td>\n",
       "      <td>11.589794</td>\n",
       "      <td>16.339665</td>\n",
       "      <td>0.862614</td>\n",
       "      <td>2.566999</td>\n",
       "      <td>1.807886</td>\n",
       "      <td>0.071876</td>\n",
       "      <td>0.005853</td>\n",
       "      <td>0.043639</td>\n",
       "      <td>0.027313</td>\n",
       "      <td>0.176815</td>\n",
       "      <td>0.222302</td>\n",
       "      <td>1.384742</td>\n",
       "      <td>80.905435</td>\n",
       "      <td>0.060581</td>\n",
       "      <td>0.498203</td>\n",
       "    </tr>\n",
       "    <tr>\n",
       "      <th>4</th>\n",
       "      <td>0.408511</td>\n",
       "      <td>95.115618</td>\n",
       "      <td>2016.510729</td>\n",
       "      <td>15.996469</td>\n",
       "      <td>16.311182</td>\n",
       "      <td>0.950385</td>\n",
       "      <td>2.421820</td>\n",
       "      <td>1.879131</td>\n",
       "      <td>0.103214</td>\n",
       "      <td>0.004799</td>\n",
       "      <td>0.025622</td>\n",
       "      <td>0.042553</td>\n",
       "      <td>0.121050</td>\n",
       "      <td>0.226075</td>\n",
       "      <td>3.024445</td>\n",
       "      <td>100.594148</td>\n",
       "      <td>0.056677</td>\n",
       "      <td>0.522770</td>\n",
       "    </tr>\n",
       "    <tr>\n",
       "      <th>5</th>\n",
       "      <td>0.397063</td>\n",
       "      <td>117.760506</td>\n",
       "      <td>2016.535954</td>\n",
       "      <td>20.269802</td>\n",
       "      <td>16.030478</td>\n",
       "      <td>0.869853</td>\n",
       "      <td>2.408014</td>\n",
       "      <td>1.827405</td>\n",
       "      <td>0.071738</td>\n",
       "      <td>0.006113</td>\n",
       "      <td>0.031072</td>\n",
       "      <td>0.018253</td>\n",
       "      <td>0.152560</td>\n",
       "      <td>0.217336</td>\n",
       "      <td>4.343493</td>\n",
       "      <td>108.744701</td>\n",
       "      <td>0.051872</td>\n",
       "      <td>0.532982</td>\n",
       "    </tr>\n",
       "    <tr>\n",
       "      <th>6</th>\n",
       "      <td>0.414935</td>\n",
       "      <td>128.367621</td>\n",
       "      <td>2016.516793</td>\n",
       "      <td>24.555230</td>\n",
       "      <td>15.120893</td>\n",
       "      <td>0.920838</td>\n",
       "      <td>2.656813</td>\n",
       "      <td>1.861261</td>\n",
       "      <td>0.096733</td>\n",
       "      <td>0.006498</td>\n",
       "      <td>0.025808</td>\n",
       "      <td>0.021598</td>\n",
       "      <td>0.152832</td>\n",
       "      <td>0.192276</td>\n",
       "      <td>1.957262</td>\n",
       "      <td>116.712740</td>\n",
       "      <td>0.055459</td>\n",
       "      <td>0.564382</td>\n",
       "    </tr>\n",
       "    <tr>\n",
       "      <th>7</th>\n",
       "      <td>0.375040</td>\n",
       "      <td>136.536110</td>\n",
       "      <td>2016.201932</td>\n",
       "      <td>28.996912</td>\n",
       "      <td>16.114745</td>\n",
       "      <td>1.119021</td>\n",
       "      <td>2.800285</td>\n",
       "      <td>1.988518</td>\n",
       "      <td>0.183798</td>\n",
       "      <td>0.009503</td>\n",
       "      <td>0.023836</td>\n",
       "      <td>0.116566</td>\n",
       "      <td>0.120130</td>\n",
       "      <td>0.217057</td>\n",
       "      <td>0.230519</td>\n",
       "      <td>126.825223</td>\n",
       "      <td>0.068103</td>\n",
       "      <td>0.670494</td>\n",
       "    </tr>\n",
       "    <tr>\n",
       "      <th>8</th>\n",
       "      <td>0.377852</td>\n",
       "      <td>121.184089</td>\n",
       "      <td>2016.075946</td>\n",
       "      <td>33.422827</td>\n",
       "      <td>15.695206</td>\n",
       "      <td>1.058259</td>\n",
       "      <td>2.831360</td>\n",
       "      <td>2.002888</td>\n",
       "      <td>0.200404</td>\n",
       "      <td>0.014150</td>\n",
       "      <td>0.016027</td>\n",
       "      <td>0.068438</td>\n",
       "      <td>0.054866</td>\n",
       "      <td>0.264727</td>\n",
       "      <td>0.399437</td>\n",
       "      <td>140.116106</td>\n",
       "      <td>0.071686</td>\n",
       "      <td>0.735850</td>\n",
       "    </tr>\n",
       "    <tr>\n",
       "      <th>9</th>\n",
       "      <td>0.391707</td>\n",
       "      <td>136.759148</td>\n",
       "      <td>2015.514283</td>\n",
       "      <td>38.096589</td>\n",
       "      <td>15.913251</td>\n",
       "      <td>0.940575</td>\n",
       "      <td>2.521353</td>\n",
       "      <td>1.873698</td>\n",
       "      <td>0.056845</td>\n",
       "      <td>0.008216</td>\n",
       "      <td>0.019203</td>\n",
       "      <td>0.288717</td>\n",
       "      <td>0.072323</td>\n",
       "      <td>0.196713</td>\n",
       "      <td>4.238464</td>\n",
       "      <td>105.095653</td>\n",
       "      <td>0.051209</td>\n",
       "      <td>0.501576</td>\n",
       "    </tr>\n",
       "    <tr>\n",
       "      <th>10</th>\n",
       "      <td>0.381073</td>\n",
       "      <td>123.427039</td>\n",
       "      <td>2015.556647</td>\n",
       "      <td>42.341956</td>\n",
       "      <td>15.453718</td>\n",
       "      <td>0.898152</td>\n",
       "      <td>2.233348</td>\n",
       "      <td>1.818837</td>\n",
       "      <td>0.063362</td>\n",
       "      <td>0.005588</td>\n",
       "      <td>0.028211</td>\n",
       "      <td>0.154214</td>\n",
       "      <td>0.074358</td>\n",
       "      <td>0.201983</td>\n",
       "      <td>4.625777</td>\n",
       "      <td>88.099087</td>\n",
       "      <td>0.055250</td>\n",
       "      <td>0.494908</td>\n",
       "    </tr>\n",
       "    <tr>\n",
       "      <th>11</th>\n",
       "      <td>0.313981</td>\n",
       "      <td>77.021919</td>\n",
       "      <td>2015.656398</td>\n",
       "      <td>46.656842</td>\n",
       "      <td>14.430391</td>\n",
       "      <td>0.787470</td>\n",
       "      <td>2.408916</td>\n",
       "      <td>1.694165</td>\n",
       "      <td>0.041321</td>\n",
       "      <td>0.006665</td>\n",
       "      <td>0.043395</td>\n",
       "      <td>0.038951</td>\n",
       "      <td>0.149882</td>\n",
       "      <td>0.249408</td>\n",
       "      <td>1.778732</td>\n",
       "      <td>74.004627</td>\n",
       "      <td>0.066351</td>\n",
       "      <td>0.582050</td>\n",
       "    </tr>\n",
       "    <tr>\n",
       "      <th>12</th>\n",
       "      <td>0.351219</td>\n",
       "      <td>73.975178</td>\n",
       "      <td>2015.568966</td>\n",
       "      <td>51.098098</td>\n",
       "      <td>16.059602</td>\n",
       "      <td>0.869203</td>\n",
       "      <td>2.365785</td>\n",
       "      <td>1.830559</td>\n",
       "      <td>0.109245</td>\n",
       "      <td>0.011296</td>\n",
       "      <td>0.046373</td>\n",
       "      <td>0.092747</td>\n",
       "      <td>0.173306</td>\n",
       "      <td>0.235137</td>\n",
       "      <td>3.030767</td>\n",
       "      <td>81.277622</td>\n",
       "      <td>0.073424</td>\n",
       "      <td>0.613704</td>\n",
       "    </tr>\n",
       "  </tbody>\n",
       "</table>\n",
       "</div>"
      ],
      "text/plain": [
       "                    is_canceled   lead_time  arrival_date_year  \\\n",
       "arrival_date_month                                               \n",
       "1                      0.307457   45.699013        2016.622915   \n",
       "2                      0.336370   48.152771        2016.518597   \n",
       "3                      0.323236   70.479618        2016.508368   \n",
       "4                      0.408511   95.115618        2016.510729   \n",
       "5                      0.397063  117.760506        2016.535954   \n",
       "6                      0.414935  128.367621        2016.516793   \n",
       "7                      0.375040  136.536110        2016.201932   \n",
       "8                      0.377852  121.184089        2016.075946   \n",
       "9                      0.391707  136.759148        2015.514283   \n",
       "10                     0.381073  123.427039        2015.556647   \n",
       "11                     0.313981   77.021919        2015.656398   \n",
       "12                     0.351219   73.975178        2015.568966   \n",
       "\n",
       "                    arrival_date_week_number  arrival_date_day_of_month  \\\n",
       "arrival_date_month                                                        \n",
       "1                                   2.982295                  16.093803   \n",
       "2                                   7.414129                  15.777209   \n",
       "3                                  11.589794                  16.339665   \n",
       "4                                  15.996469                  16.311182   \n",
       "5                                  20.269802                  16.030478   \n",
       "6                                  24.555230                  15.120893   \n",
       "7                                  28.996912                  16.114745   \n",
       "8                                  33.422827                  15.695206   \n",
       "9                                  38.096589                  15.913251   \n",
       "10                                 42.341956                  15.453718   \n",
       "11                                 46.656842                  14.430391   \n",
       "12                                 51.098098                  16.059602   \n",
       "\n",
       "                    stays_in_weekend_nights  stays_in_week_nights    adults  \\\n",
       "arrival_date_month                                                            \n",
       "1                                  0.784644              2.199694  1.694586   \n",
       "2                                  0.856715              2.184348  1.794558   \n",
       "3                                  0.862614              2.566999  1.807886   \n",
       "4                                  0.950385              2.421820  1.879131   \n",
       "5                                  0.869853              2.408014  1.827405   \n",
       "6                                  0.920838              2.656813  1.861261   \n",
       "7                                  1.119021              2.800285  1.988518   \n",
       "8                                  1.058259              2.831360  2.002888   \n",
       "9                                  0.940575              2.521353  1.873698   \n",
       "10                                 0.898152              2.233348  1.818837   \n",
       "11                                 0.787470              2.408916  1.694165   \n",
       "12                                 0.869203              2.365785  1.830559   \n",
       "\n",
       "                    children    babies  is_repeated_guest  \\\n",
       "arrival_date_month                                          \n",
       "1                   0.076949  0.008172           0.067586   \n",
       "2                   0.098228  0.007364           0.051298   \n",
       "3                   0.071876  0.005853           0.043639   \n",
       "4                   0.103214  0.004799           0.025622   \n",
       "5                   0.071738  0.006113           0.031072   \n",
       "6                   0.096733  0.006498           0.025808   \n",
       "7                   0.183798  0.009503           0.023836   \n",
       "8                   0.200404  0.014150           0.016027   \n",
       "9                   0.056845  0.008216           0.019203   \n",
       "10                  0.063362  0.005588           0.028211   \n",
       "11                  0.041321  0.006665           0.043395   \n",
       "12                  0.109245  0.011296           0.046373   \n",
       "\n",
       "                    previous_cancellations  previous_bookings_not_canceled  \\\n",
       "arrival_date_month                                                           \n",
       "1                                 0.089717                        0.296561   \n",
       "2                                 0.075761                        0.167998   \n",
       "3                                 0.027313                        0.176815   \n",
       "4                                 0.042553                        0.121050   \n",
       "5                                 0.018253                        0.152560   \n",
       "6                                 0.021598                        0.152832   \n",
       "7                                 0.116566                        0.120130   \n",
       "8                                 0.068438                        0.054866   \n",
       "9                                 0.288717                        0.072323   \n",
       "10                                0.154214                        0.074358   \n",
       "11                                0.038951                        0.149882   \n",
       "12                                0.092747                        0.173306   \n",
       "\n",
       "                    booking_changes  days_in_waiting_list         adr  \\\n",
       "arrival_date_month                                                      \n",
       "1                          0.249234              2.550051   70.633827   \n",
       "2                          0.191837              0.770220   73.815056   \n",
       "3                          0.222302              1.384742   80.905435   \n",
       "4                          0.226075              3.024445  100.594148   \n",
       "5                          0.217336              4.343493  108.744701   \n",
       "6                          0.192276              1.957262  116.712740   \n",
       "7                          0.217057              0.230519  126.825223   \n",
       "8                          0.264727              0.399437  140.116106   \n",
       "9                          0.196713              4.238464  105.095653   \n",
       "10                         0.201983              4.625777   88.099087   \n",
       "11                         0.249408              1.778732   74.004627   \n",
       "12                         0.235137              3.030767   81.277622   \n",
       "\n",
       "                    required_car_parking_spaces  total_of_special_requests  \n",
       "arrival_date_month                                                          \n",
       "1                                      0.080865                   0.548689  \n",
       "2                                      0.063155                   0.526460  \n",
       "3                                      0.060581                   0.498203  \n",
       "4                                      0.056677                   0.522770  \n",
       "5                                      0.051872                   0.532982  \n",
       "6                                      0.055459                   0.564382  \n",
       "7                                      0.068103                   0.670494  \n",
       "8                                      0.071686                   0.735850  \n",
       "9                                      0.051209                   0.501576  \n",
       "10                                     0.055250                   0.494908  \n",
       "11                                     0.066351                   0.582050  \n",
       "12                                     0.073424                   0.613704  "
      ]
     },
     "execution_count": 174,
     "metadata": {},
     "output_type": "execute_result"
    }
   ],
   "source": [
    "df.groupby('arrival_date_month').mean()"
   ]
  },
  {
   "cell_type": "code",
   "execution_count": 175,
   "metadata": {},
   "outputs": [
    {
     "data": {
      "text/plain": [
       "Text(0.5, 0, 'Month')"
      ]
     },
     "execution_count": 175,
     "metadata": {},
     "output_type": "execute_result"
    },
    {
     "data": {
      "image/png": "[encoded data removed]",
      "text/plain": [
       "<Figure size 864x576 with 1 Axes>"
      ]
     },
     "metadata": {},
     "output_type": "display_data"
    }
   ],
   "source": [
    "sns.set_style('whitegrid')\n",
    "plt.figure(figsize=(12,8))\n",
    "sns.countplot('arrival_date_month',data=df,hue='arrival_date_month')\n",
    "plt.xlabel(\"Month\")"
   ]
  },
  {
   "cell_type": "code",
   "execution_count": 176,
   "metadata": {},
   "outputs": [
    {
     "data": {
      "text/html": [
       "<div>\n",
       "<style scoped>\n",
       "    .dataframe tbody tr th:only-of-type {\n",
       "        vertical-align: middle;\n",
       "    }\n",
       "\n",
       "    .dataframe tbody tr th {\n",
       "        vertical-align: top;\n",
       "    }\n",
       "\n",
       "    .dataframe thead th {\n",
       "        text-align: right;\n",
       "    }\n",
       "</style>\n",
       "<table border=\"1\" class=\"dataframe\">\n",
       "  <thead>\n",
       "    <tr style=\"text-align: right;\">\n",
       "      <th></th>\n",
       "      <th>hotel</th>\n",
       "      <th>is_canceled</th>\n",
       "      <th>lead_time</th>\n",
       "      <th>arrival_date_year</th>\n",
       "      <th>arrival_date_month</th>\n",
       "      <th>arrival_date_week_number</th>\n",
       "      <th>arrival_date_day_of_month</th>\n",
       "      <th>stays_in_weekend_nights</th>\n",
       "      <th>stays_in_week_nights</th>\n",
       "      <th>adults</th>\n",
       "      <th>...</th>\n",
       "      <th>reserved_room_type</th>\n",
       "      <th>assigned_room_type</th>\n",
       "      <th>booking_changes</th>\n",
       "      <th>deposit_type</th>\n",
       "      <th>days_in_waiting_list</th>\n",
       "      <th>customer_type</th>\n",
       "      <th>adr</th>\n",
       "      <th>required_car_parking_spaces</th>\n",
       "      <th>total_of_special_requests</th>\n",
       "      <th>reservation_status</th>\n",
       "    </tr>\n",
       "    <tr>\n",
       "      <th>country</th>\n",
       "      <th></th>\n",
       "      <th></th>\n",
       "      <th></th>\n",
       "      <th></th>\n",
       "      <th></th>\n",
       "      <th></th>\n",
       "      <th></th>\n",
       "      <th></th>\n",
       "      <th></th>\n",
       "      <th></th>\n",
       "      <th></th>\n",
       "      <th></th>\n",
       "      <th></th>\n",
       "      <th></th>\n",
       "      <th></th>\n",
       "      <th></th>\n",
       "      <th></th>\n",
       "      <th></th>\n",
       "      <th></th>\n",
       "      <th></th>\n",
       "      <th></th>\n",
       "    </tr>\n",
       "  </thead>\n",
       "  <tbody>\n",
       "    <tr>\n",
       "      <th>PRT</th>\n",
       "      <td>48586</td>\n",
       "      <td>48586</td>\n",
       "      <td>48586</td>\n",
       "      <td>48586</td>\n",
       "      <td>48586</td>\n",
       "      <td>48586</td>\n",
       "      <td>48586</td>\n",
       "      <td>48586</td>\n",
       "      <td>48586</td>\n",
       "      <td>48586</td>\n",
       "      <td>...</td>\n",
       "      <td>48586</td>\n",
       "      <td>48586</td>\n",
       "      <td>48586</td>\n",
       "      <td>48586</td>\n",
       "      <td>48586</td>\n",
       "      <td>48586</td>\n",
       "      <td>48586</td>\n",
       "      <td>48586</td>\n",
       "      <td>48586</td>\n",
       "      <td>48586</td>\n",
       "    </tr>\n",
       "    <tr>\n",
       "      <th>GBR</th>\n",
       "      <td>12129</td>\n",
       "      <td>12129</td>\n",
       "      <td>12129</td>\n",
       "      <td>12129</td>\n",
       "      <td>12129</td>\n",
       "      <td>12129</td>\n",
       "      <td>12129</td>\n",
       "      <td>12129</td>\n",
       "      <td>12129</td>\n",
       "      <td>12129</td>\n",
       "      <td>...</td>\n",
       "      <td>12129</td>\n",
       "      <td>12129</td>\n",
       "      <td>12129</td>\n",
       "      <td>12129</td>\n",
       "      <td>12129</td>\n",
       "      <td>12129</td>\n",
       "      <td>12129</td>\n",
       "      <td>12129</td>\n",
       "      <td>12129</td>\n",
       "      <td>12129</td>\n",
       "    </tr>\n",
       "    <tr>\n",
       "      <th>FRA</th>\n",
       "      <td>10415</td>\n",
       "      <td>10415</td>\n",
       "      <td>10415</td>\n",
       "      <td>10415</td>\n",
       "      <td>10415</td>\n",
       "      <td>10415</td>\n",
       "      <td>10415</td>\n",
       "      <td>10415</td>\n",
       "      <td>10415</td>\n",
       "      <td>10415</td>\n",
       "      <td>...</td>\n",
       "      <td>10415</td>\n",
       "      <td>10415</td>\n",
       "      <td>10415</td>\n",
       "      <td>10415</td>\n",
       "      <td>10415</td>\n",
       "      <td>10415</td>\n",
       "      <td>10415</td>\n",
       "      <td>10415</td>\n",
       "      <td>10415</td>\n",
       "      <td>10415</td>\n",
       "    </tr>\n",
       "    <tr>\n",
       "      <th>ESP</th>\n",
       "      <td>8568</td>\n",
       "      <td>8568</td>\n",
       "      <td>8568</td>\n",
       "      <td>8568</td>\n",
       "      <td>8568</td>\n",
       "      <td>8568</td>\n",
       "      <td>8568</td>\n",
       "      <td>8568</td>\n",
       "      <td>8568</td>\n",
       "      <td>8568</td>\n",
       "      <td>...</td>\n",
       "      <td>8568</td>\n",
       "      <td>8568</td>\n",
       "      <td>8568</td>\n",
       "      <td>8568</td>\n",
       "      <td>8568</td>\n",
       "      <td>8568</td>\n",
       "      <td>8568</td>\n",
       "      <td>8568</td>\n",
       "      <td>8568</td>\n",
       "      <td>8568</td>\n",
       "    </tr>\n",
       "    <tr>\n",
       "      <th>DEU</th>\n",
       "      <td>7287</td>\n",
       "      <td>7287</td>\n",
       "      <td>7287</td>\n",
       "      <td>7287</td>\n",
       "      <td>7287</td>\n",
       "      <td>7287</td>\n",
       "      <td>7287</td>\n",
       "      <td>7287</td>\n",
       "      <td>7287</td>\n",
       "      <td>7287</td>\n",
       "      <td>...</td>\n",
       "      <td>7287</td>\n",
       "      <td>7287</td>\n",
       "      <td>7287</td>\n",
       "      <td>7287</td>\n",
       "      <td>7287</td>\n",
       "      <td>7287</td>\n",
       "      <td>7287</td>\n",
       "      <td>7287</td>\n",
       "      <td>7287</td>\n",
       "      <td>7287</td>\n",
       "    </tr>\n",
       "    <tr>\n",
       "      <th>...</th>\n",
       "      <td>...</td>\n",
       "      <td>...</td>\n",
       "      <td>...</td>\n",
       "      <td>...</td>\n",
       "      <td>...</td>\n",
       "      <td>...</td>\n",
       "      <td>...</td>\n",
       "      <td>...</td>\n",
       "      <td>...</td>\n",
       "      <td>...</td>\n",
       "      <td>...</td>\n",
       "      <td>...</td>\n",
       "      <td>...</td>\n",
       "      <td>...</td>\n",
       "      <td>...</td>\n",
       "      <td>...</td>\n",
       "      <td>...</td>\n",
       "      <td>...</td>\n",
       "      <td>...</td>\n",
       "      <td>...</td>\n",
       "      <td>...</td>\n",
       "    </tr>\n",
       "    <tr>\n",
       "      <th>MLI</th>\n",
       "      <td>1</td>\n",
       "      <td>1</td>\n",
       "      <td>1</td>\n",
       "      <td>1</td>\n",
       "      <td>1</td>\n",
       "      <td>1</td>\n",
       "      <td>1</td>\n",
       "      <td>1</td>\n",
       "      <td>1</td>\n",
       "      <td>1</td>\n",
       "      <td>...</td>\n",
       "      <td>1</td>\n",
       "      <td>1</td>\n",
       "      <td>1</td>\n",
       "      <td>1</td>\n",
       "      <td>1</td>\n",
       "      <td>1</td>\n",
       "      <td>1</td>\n",
       "      <td>1</td>\n",
       "      <td>1</td>\n",
       "      <td>1</td>\n",
       "    </tr>\n",
       "    <tr>\n",
       "      <th>MMR</th>\n",
       "      <td>1</td>\n",
       "      <td>1</td>\n",
       "      <td>1</td>\n",
       "      <td>1</td>\n",
       "      <td>1</td>\n",
       "      <td>1</td>\n",
       "      <td>1</td>\n",
       "      <td>1</td>\n",
       "      <td>1</td>\n",
       "      <td>1</td>\n",
       "      <td>...</td>\n",
       "      <td>1</td>\n",
       "      <td>1</td>\n",
       "      <td>1</td>\n",
       "      <td>1</td>\n",
       "      <td>1</td>\n",
       "      <td>1</td>\n",
       "      <td>1</td>\n",
       "      <td>1</td>\n",
       "      <td>1</td>\n",
       "      <td>1</td>\n",
       "    </tr>\n",
       "    <tr>\n",
       "      <th>MRT</th>\n",
       "      <td>1</td>\n",
       "      <td>1</td>\n",
       "      <td>1</td>\n",
       "      <td>1</td>\n",
       "      <td>1</td>\n",
       "      <td>1</td>\n",
       "      <td>1</td>\n",
       "      <td>1</td>\n",
       "      <td>1</td>\n",
       "      <td>1</td>\n",
       "      <td>...</td>\n",
       "      <td>1</td>\n",
       "      <td>1</td>\n",
       "      <td>1</td>\n",
       "      <td>1</td>\n",
       "      <td>1</td>\n",
       "      <td>1</td>\n",
       "      <td>1</td>\n",
       "      <td>1</td>\n",
       "      <td>1</td>\n",
       "      <td>1</td>\n",
       "    </tr>\n",
       "    <tr>\n",
       "      <th>SMR</th>\n",
       "      <td>1</td>\n",
       "      <td>1</td>\n",
       "      <td>1</td>\n",
       "      <td>1</td>\n",
       "      <td>1</td>\n",
       "      <td>1</td>\n",
       "      <td>1</td>\n",
       "      <td>1</td>\n",
       "      <td>1</td>\n",
       "      <td>1</td>\n",
       "      <td>...</td>\n",
       "      <td>1</td>\n",
       "      <td>1</td>\n",
       "      <td>1</td>\n",
       "      <td>1</td>\n",
       "      <td>1</td>\n",
       "      <td>1</td>\n",
       "      <td>1</td>\n",
       "      <td>1</td>\n",
       "      <td>1</td>\n",
       "      <td>1</td>\n",
       "    </tr>\n",
       "    <tr>\n",
       "      <th>PYF</th>\n",
       "      <td>1</td>\n",
       "      <td>1</td>\n",
       "      <td>1</td>\n",
       "      <td>1</td>\n",
       "      <td>1</td>\n",
       "      <td>1</td>\n",
       "      <td>1</td>\n",
       "      <td>1</td>\n",
       "      <td>1</td>\n",
       "      <td>1</td>\n",
       "      <td>...</td>\n",
       "      <td>1</td>\n",
       "      <td>1</td>\n",
       "      <td>1</td>\n",
       "      <td>1</td>\n",
       "      <td>1</td>\n",
       "      <td>1</td>\n",
       "      <td>1</td>\n",
       "      <td>1</td>\n",
       "      <td>1</td>\n",
       "      <td>1</td>\n",
       "    </tr>\n",
       "  </tbody>\n",
       "</table>\n",
       "<p>177 rows × 28 columns</p>\n",
       "</div>"
      ],
      "text/plain": [
       "         hotel  is_canceled  lead_time  arrival_date_year  arrival_date_month  \\\n",
       "country                                                                         \n",
       "PRT      48586        48586      48586              48586               48586   \n",
       "GBR      12129        12129      12129              12129               12129   \n",
       "FRA      10415        10415      10415              10415               10415   \n",
       "ESP       8568         8568       8568               8568                8568   \n",
       "DEU       7287         7287       7287               7287                7287   \n",
       "...        ...          ...        ...                ...                 ...   \n",
       "MLI          1            1          1                  1                   1   \n",
       "MMR          1            1          1                  1                   1   \n",
       "MRT          1            1          1                  1                   1   \n",
       "SMR          1            1          1                  1                   1   \n",
       "PYF          1            1          1                  1                   1   \n",
       "\n",
       "         arrival_date_week_number  arrival_date_day_of_month  \\\n",
       "country                                                        \n",
       "PRT                         48586                      48586   \n",
       "GBR                         12129                      12129   \n",
       "FRA                         10415                      10415   \n",
       "ESP                          8568                       8568   \n",
       "DEU                          7287                       7287   \n",
       "...                           ...                        ...   \n",
       "MLI                             1                          1   \n",
       "MMR                             1                          1   \n",
       "MRT                             1                          1   \n",
       "SMR                             1                          1   \n",
       "PYF                             1                          1   \n",
       "\n",
       "         stays_in_weekend_nights  stays_in_week_nights  adults  ...  \\\n",
       "country                                                         ...   \n",
       "PRT                        48586                 48586   48586  ...   \n",
       "GBR                        12129                 12129   12129  ...   \n",
       "FRA                        10415                 10415   10415  ...   \n",
       "ESP                         8568                  8568    8568  ...   \n",
       "DEU                         7287                  7287    7287  ...   \n",
       "...                          ...                   ...     ...  ...   \n",
       "MLI                            1                     1       1  ...   \n",
       "MMR                            1                     1       1  ...   \n",
       "MRT                            1                     1       1  ...   \n",
       "SMR                            1                     1       1  ...   \n",
       "PYF                            1                     1       1  ...   \n",
       "\n",
       "         reserved_room_type  assigned_room_type  booking_changes  \\\n",
       "country                                                            \n",
       "PRT                   48586               48586            48586   \n",
       "GBR                   12129               12129            12129   \n",
       "FRA                   10415               10415            10415   \n",
       "ESP                    8568                8568             8568   \n",
       "DEU                    7287                7287             7287   \n",
       "...                     ...                 ...              ...   \n",
       "MLI                       1                   1                1   \n",
       "MMR                       1                   1                1   \n",
       "MRT                       1                   1                1   \n",
       "SMR                       1                   1                1   \n",
       "PYF                       1                   1                1   \n",
       "\n",
       "         deposit_type  days_in_waiting_list  customer_type    adr  \\\n",
       "country                                                             \n",
       "PRT             48586                 48586          48586  48586   \n",
       "GBR             12129                 12129          12129  12129   \n",
       "FRA             10415                 10415          10415  10415   \n",
       "ESP              8568                  8568           8568   8568   \n",
       "DEU              7287                  7287           7287   7287   \n",
       "...               ...                   ...            ...    ...   \n",
       "MLI                 1                     1              1      1   \n",
       "MMR                 1                     1              1      1   \n",
       "MRT                 1                     1              1      1   \n",
       "SMR                 1                     1              1      1   \n",
       "PYF                 1                     1              1      1   \n",
       "\n",
       "         required_car_parking_spaces  total_of_special_requests  \\\n",
       "country                                                           \n",
       "PRT                            48586                      48586   \n",
       "GBR                            12129                      12129   \n",
       "FRA                            10415                      10415   \n",
       "ESP                             8568                       8568   \n",
       "DEU                             7287                       7287   \n",
       "...                              ...                        ...   \n",
       "MLI                                1                          1   \n",
       "MMR                                1                          1   \n",
       "MRT                                1                          1   \n",
       "SMR                                1                          1   \n",
       "PYF                                1                          1   \n",
       "\n",
       "         reservation_status  \n",
       "country                      \n",
       "PRT                   48586  \n",
       "GBR                   12129  \n",
       "FRA                   10415  \n",
       "ESP                    8568  \n",
       "DEU                    7287  \n",
       "...                     ...  \n",
       "MLI                       1  \n",
       "MMR                       1  \n",
       "MRT                       1  \n",
       "SMR                       1  \n",
       "PYF                       1  \n",
       "\n",
       "[177 rows x 28 columns]"
      ]
     },
     "execution_count": 176,
     "metadata": {},
     "output_type": "execute_result"
    }
   ],
   "source": [
    "df.groupby('country').count().sort_values(by=['hotel'],ascending=0)"
   ]
  },
  {
   "cell_type": "code",
   "execution_count": 177,
   "metadata": {},
   "outputs": [
    {
     "data": {
      "text/plain": [
       "0         0\n",
       "1         0\n",
       "2         0\n",
       "3         0\n",
       "4         0\n",
       "         ..\n",
       "119385    0\n",
       "119386    0\n",
       "119387    0\n",
       "119388    0\n",
       "119389    0\n",
       "Name: previous_cancellations, Length: 118898, dtype: int64"
      ]
     },
     "execution_count": 177,
     "metadata": {},
     "output_type": "execute_result"
    }
   ],
   "source": [
    "df['previous_cancellations']"
   ]
  },
  {
   "cell_type": "code",
   "execution_count": 178,
   "metadata": {},
   "outputs": [
    {
     "data": {
      "text/plain": [
       "<matplotlib.axes._subplots.AxesSubplot at 0x20a1425cc08>"
      ]
     },
     "execution_count": 178,
     "metadata": {},
     "output_type": "execute_result"
    },
    {
     "data": {
      "image/png": "[encoded data removed]",
      "text/plain": [
       "<Figure size 864x576 with 1 Axes>"
      ]
     },
     "metadata": {},
     "output_type": "display_data"
    },
    {
     "data": {
      "image/png": "[encoded data removed]",
      "text/plain": [
       "<Figure size 864x576 with 1 Axes>"
      ]
     },
     "metadata": {},
     "output_type": "display_data"
    }
   ],
   "source": [
    "plt.figure(figsize=(12,8))\n",
    "sns.countplot('hotel',data=df,hue='arrival_date_month')\n",
    "\n",
    "plt.figure(figsize=(12,8))\n",
    "sns.countplot('arrival_date_month',data=df,hue='hotel')"
   ]
  },
  {
   "cell_type": "code",
   "execution_count": 179,
   "metadata": {},
   "outputs": [
    {
     "data": {
      "text/plain": [
       "<matplotlib.axes._subplots.AxesSubplot at 0x20a14531cc8>"
      ]
     },
     "execution_count": 179,
     "metadata": {},
     "output_type": "execute_result"
    },
    {
     "data": {
      "image/png": "[encoded data removed]",
      "text/plain": [
       "<Figure size 864x576 with 1 Axes>"
      ]
     },
     "metadata": {},
     "output_type": "display_data"
    }
   ],
   "source": [
    "plt.figure(figsize=(12,8))\n",
    "sns.countplot('arrival_date_month',data=df,hue='is_canceled')"
   ]
  },
  {
   "cell_type": "code",
   "execution_count": 180,
   "metadata": {},
   "outputs": [
    {
     "data": {
      "text/plain": [
       "Text(0, 0.5, 'Count')"
      ]
     },
     "execution_count": 180,
     "metadata": {},
     "output_type": "execute_result"
    },
    {
     "data": {
      "image/png": "[encoded data removed]",
      "text/plain": [
       "<Figure size 864x576 with 1 Axes>"
      ]
     },
     "metadata": {},
     "output_type": "display_data"
    }
   ],
   "source": [
    "plt.figure(figsize=(12,8))\n",
    "sns.countplot('hotel',data=df,hue='is_canceled')\n",
    "plt.legend([\"Not Cancelled\",\"Cancelled\"])\n",
    "plt.ylabel(\"Count\")"
   ]
  },
  {
   "cell_type": "code",
   "execution_count": 181,
   "metadata": {},
   "outputs": [
    {
     "data": {
      "text/plain": [
       "<matplotlib.axes._subplots.AxesSubplot at 0x20a143ea048>"
      ]
     },
     "execution_count": 181,
     "metadata": {},
     "output_type": "execute_result"
    },
    {
     "data": {
      "image/png": "[encoded data removed]",
      "text/plain": [
       "<Figure size 1440x576 with 1 Axes>"
      ]
     },
     "metadata": {},
     "output_type": "display_data"
    }
   ],
   "source": [
    "plt.figure(figsize=(20,8))\n",
    "plt.legend([\"Resort\",\"City\"])\n",
    "ax = sns.distplot(df[df[\"hotel\"] == \"Resort Hotel\"]['adr'],bins=20)\n",
    "sns.distplot(df[df[\"hotel\"] == \"City Hotel\"]['adr'],bins=20,ax=ax)"
   ]
  },
  {
   "cell_type": "code",
   "execution_count": 182,
   "metadata": {},
   "outputs": [
    {
     "data": {
      "text/plain": [
       "<matplotlib.axes._subplots.AxesSubplot at 0x20a14353cc8>"
      ]
     },
     "execution_count": 182,
     "metadata": {},
     "output_type": "execute_result"
    },
    {
     "data": {
      "image/png": "[encoded data removed]",
      "text/plain": [
       "<Figure size 864x432 with 1 Axes>"
      ]
     },
     "metadata": {},
     "output_type": "display_data"
    },
    {
     "data": {
      "image/png": "[encoded data removed]",
      "text/plain": [
       "<Figure size 864x432 with 1 Axes>"
      ]
     },
     "metadata": {},
     "output_type": "display_data"
    }
   ],
   "source": [
    "plt.figure(figsize=(12,6))\n",
    "sns.countplot(df['customer_type'])\n",
    "\n",
    "plt.figure(figsize=(12,6))\n",
    "sns.countplot(df['meal'])\n"
   ]
  },
  {
   "cell_type": "code",
   "execution_count": 183,
   "metadata": {},
   "outputs": [
    {
     "data": {
      "text/plain": [
       "<matplotlib.axes._subplots.AxesSubplot at 0x20a15614b88>"
      ]
     },
     "execution_count": 183,
     "metadata": {},
     "output_type": "execute_result"
    },
    {
     "data": {
      "image/png": "[encoded data removed]",
      "text/plain": [
       "<Figure size 864x288 with 1 Axes>"
      ]
     },
     "metadata": {},
     "output_type": "display_data"
    }
   ],
   "source": [
    "plt.figure(figsize=(12,4))\n",
    "sns.countplot(df['deposit_type'])"
   ]
  },
  {
   "cell_type": "code",
   "execution_count": 184,
   "metadata": {},
   "outputs": [
    {
     "data": {
      "text/plain": [
       "29"
      ]
     },
     "execution_count": 184,
     "metadata": {},
     "output_type": "execute_result"
    }
   ],
   "source": [
    "len(df.columns)"
   ]
  },
  {
   "cell_type": "markdown",
   "metadata": {},
   "source": [
    "## Data Modelling"
   ]
  },
  {
   "cell_type": "code",
   "execution_count": 186,
   "metadata": {},
   "outputs": [],
   "source": [
    "df=pd.get_dummies(df,prefix=['hotel', 'meal', 'country', 'market_segment',\n",
    "       'distribution_channel', 'reserved_room_type', 'assigned_room_type',\n",
    "       'deposit_type', 'customer_type', 'reservation_status'])"
   ]
  },
  {
   "cell_type": "code",
   "execution_count": 187,
   "metadata": {},
   "outputs": [
    {
     "data": {
      "text/html": [
       "<div>\n",
       "<style scoped>\n",
       "    .dataframe tbody tr th:only-of-type {\n",
       "        vertical-align: middle;\n",
       "    }\n",
       "\n",
       "    .dataframe tbody tr th {\n",
       "        vertical-align: top;\n",
       "    }\n",
       "\n",
       "    .dataframe thead th {\n",
       "        text-align: right;\n",
       "    }\n",
       "</style>\n",
       "<table border=\"1\" class=\"dataframe\">\n",
       "  <thead>\n",
       "    <tr style=\"text-align: right;\">\n",
       "      <th></th>\n",
       "      <th>is_canceled</th>\n",
       "      <th>lead_time</th>\n",
       "      <th>arrival_date_year</th>\n",
       "      <th>arrival_date_month</th>\n",
       "      <th>arrival_date_week_number</th>\n",
       "      <th>arrival_date_day_of_month</th>\n",
       "      <th>stays_in_weekend_nights</th>\n",
       "      <th>stays_in_week_nights</th>\n",
       "      <th>adults</th>\n",
       "      <th>children</th>\n",
       "      <th>...</th>\n",
       "      <th>deposit_type_No Deposit</th>\n",
       "      <th>deposit_type_Non Refund</th>\n",
       "      <th>deposit_type_Refundable</th>\n",
       "      <th>customer_type_Contract</th>\n",
       "      <th>customer_type_Group</th>\n",
       "      <th>customer_type_Transient</th>\n",
       "      <th>customer_type_Transient-Party</th>\n",
       "      <th>reservation_status_Canceled</th>\n",
       "      <th>reservation_status_Check-Out</th>\n",
       "      <th>reservation_status_No-Show</th>\n",
       "    </tr>\n",
       "  </thead>\n",
       "  <tbody>\n",
       "    <tr>\n",
       "      <th>0</th>\n",
       "      <td>0</td>\n",
       "      <td>342</td>\n",
       "      <td>2015</td>\n",
       "      <td>7</td>\n",
       "      <td>27</td>\n",
       "      <td>1</td>\n",
       "      <td>0</td>\n",
       "      <td>0</td>\n",
       "      <td>2</td>\n",
       "      <td>0.0</td>\n",
       "      <td>...</td>\n",
       "      <td>1</td>\n",
       "      <td>0</td>\n",
       "      <td>0</td>\n",
       "      <td>0</td>\n",
       "      <td>0</td>\n",
       "      <td>1</td>\n",
       "      <td>0</td>\n",
       "      <td>0</td>\n",
       "      <td>1</td>\n",
       "      <td>0</td>\n",
       "    </tr>\n",
       "    <tr>\n",
       "      <th>1</th>\n",
       "      <td>0</td>\n",
       "      <td>737</td>\n",
       "      <td>2015</td>\n",
       "      <td>7</td>\n",
       "      <td>27</td>\n",
       "      <td>1</td>\n",
       "      <td>0</td>\n",
       "      <td>0</td>\n",
       "      <td>2</td>\n",
       "      <td>0.0</td>\n",
       "      <td>...</td>\n",
       "      <td>1</td>\n",
       "      <td>0</td>\n",
       "      <td>0</td>\n",
       "      <td>0</td>\n",
       "      <td>0</td>\n",
       "      <td>1</td>\n",
       "      <td>0</td>\n",
       "      <td>0</td>\n",
       "      <td>1</td>\n",
       "      <td>0</td>\n",
       "    </tr>\n",
       "    <tr>\n",
       "      <th>2</th>\n",
       "      <td>0</td>\n",
       "      <td>7</td>\n",
       "      <td>2015</td>\n",
       "      <td>7</td>\n",
       "      <td>27</td>\n",
       "      <td>1</td>\n",
       "      <td>0</td>\n",
       "      <td>1</td>\n",
       "      <td>1</td>\n",
       "      <td>0.0</td>\n",
       "      <td>...</td>\n",
       "      <td>1</td>\n",
       "      <td>0</td>\n",
       "      <td>0</td>\n",
       "      <td>0</td>\n",
       "      <td>0</td>\n",
       "      <td>1</td>\n",
       "      <td>0</td>\n",
       "      <td>0</td>\n",
       "      <td>1</td>\n",
       "      <td>0</td>\n",
       "    </tr>\n",
       "    <tr>\n",
       "      <th>3</th>\n",
       "      <td>0</td>\n",
       "      <td>13</td>\n",
       "      <td>2015</td>\n",
       "      <td>7</td>\n",
       "      <td>27</td>\n",
       "      <td>1</td>\n",
       "      <td>0</td>\n",
       "      <td>1</td>\n",
       "      <td>1</td>\n",
       "      <td>0.0</td>\n",
       "      <td>...</td>\n",
       "      <td>1</td>\n",
       "      <td>0</td>\n",
       "      <td>0</td>\n",
       "      <td>0</td>\n",
       "      <td>0</td>\n",
       "      <td>1</td>\n",
       "      <td>0</td>\n",
       "      <td>0</td>\n",
       "      <td>1</td>\n",
       "      <td>0</td>\n",
       "    </tr>\n",
       "    <tr>\n",
       "      <th>4</th>\n",
       "      <td>0</td>\n",
       "      <td>14</td>\n",
       "      <td>2015</td>\n",
       "      <td>7</td>\n",
       "      <td>27</td>\n",
       "      <td>1</td>\n",
       "      <td>0</td>\n",
       "      <td>2</td>\n",
       "      <td>2</td>\n",
       "      <td>0.0</td>\n",
       "      <td>...</td>\n",
       "      <td>1</td>\n",
       "      <td>0</td>\n",
       "      <td>0</td>\n",
       "      <td>0</td>\n",
       "      <td>0</td>\n",
       "      <td>1</td>\n",
       "      <td>0</td>\n",
       "      <td>0</td>\n",
       "      <td>1</td>\n",
       "      <td>0</td>\n",
       "    </tr>\n",
       "  </tbody>\n",
       "</table>\n",
       "<p>5 rows × 247 columns</p>\n",
       "</div>"
      ],
      "text/plain": [
       "   is_canceled  lead_time  arrival_date_year  arrival_date_month  \\\n",
       "0            0        342               2015                   7   \n",
       "1            0        737               2015                   7   \n",
       "2            0          7               2015                   7   \n",
       "3            0         13               2015                   7   \n",
       "4            0         14               2015                   7   \n",
       "\n",
       "   arrival_date_week_number  arrival_date_day_of_month  \\\n",
       "0                        27                          1   \n",
       "1                        27                          1   \n",
       "2                        27                          1   \n",
       "3                        27                          1   \n",
       "4                        27                          1   \n",
       "\n",
       "   stays_in_weekend_nights  stays_in_week_nights  adults  children  ...  \\\n",
       "0                        0                     0       2       0.0  ...   \n",
       "1                        0                     0       2       0.0  ...   \n",
       "2                        0                     1       1       0.0  ...   \n",
       "3                        0                     1       1       0.0  ...   \n",
       "4                        0                     2       2       0.0  ...   \n",
       "\n",
       "   deposit_type_No Deposit  deposit_type_Non Refund  deposit_type_Refundable  \\\n",
       "0                        1                        0                        0   \n",
       "1                        1                        0                        0   \n",
       "2                        1                        0                        0   \n",
       "3                        1                        0                        0   \n",
       "4                        1                        0                        0   \n",
       "\n",
       "   customer_type_Contract  customer_type_Group  customer_type_Transient  \\\n",
       "0                       0                    0                        1   \n",
       "1                       0                    0                        1   \n",
       "2                       0                    0                        1   \n",
       "3                       0                    0                        1   \n",
       "4                       0                    0                        1   \n",
       "\n",
       "   customer_type_Transient-Party  reservation_status_Canceled  \\\n",
       "0                              0                            0   \n",
       "1                              0                            0   \n",
       "2                              0                            0   \n",
       "3                              0                            0   \n",
       "4                              0                            0   \n",
       "\n",
       "   reservation_status_Check-Out  reservation_status_No-Show  \n",
       "0                             1                           0  \n",
       "1                             1                           0  \n",
       "2                             1                           0  \n",
       "3                             1                           0  \n",
       "4                             1                           0  \n",
       "\n",
       "[5 rows x 247 columns]"
      ]
     },
     "execution_count": 187,
     "metadata": {},
     "output_type": "execute_result"
    }
   ],
   "source": [
    "df.head()"
   ]
  },
  {
   "cell_type": "code",
   "execution_count": 188,
   "metadata": {},
   "outputs": [
    {
     "data": {
      "text/plain": [
       "uint8      228\n",
       "int64       17\n",
       "float64      2\n",
       "dtype: int64"
      ]
     },
     "execution_count": 188,
     "metadata": {},
     "output_type": "execute_result"
    }
   ],
   "source": [
    "df.dtypes.value_counts()"
   ]
  },
  {
   "cell_type": "code",
   "execution_count": 189,
   "metadata": {},
   "outputs": [],
   "source": [
    "X = df.drop('is_canceled',axis=1)\n",
    "y =  df['is_canceled']"
   ]
  },
  {
   "cell_type": "code",
   "execution_count": 190,
   "metadata": {},
   "outputs": [],
   "source": [
    "from sklearn.model_selection import train_test_split"
   ]
  },
  {
   "cell_type": "code",
   "execution_count": 200,
   "metadata": {},
   "outputs": [],
   "source": [
    " X_train, X_test, y_train, y_test = train_test_split(X, y, test_size=0.3, random_state=42)"
   ]
  },
  {
   "cell_type": "code",
   "execution_count": 202,
   "metadata": {},
   "outputs": [],
   "source": [
    "from tensorflow.keras.models import Sequential\n",
    "from tensorflow.keras.layers import Dense,Dropout"
   ]
  },
  {
   "cell_type": "code",
   "execution_count": 205,
   "metadata": {},
   "outputs": [
    {
     "data": {
      "text/plain": [
       "(83228, 246)"
      ]
     },
     "execution_count": 205,
     "metadata": {},
     "output_type": "execute_result"
    }
   ],
   "source": [
    "X_train.shape"
   ]
  },
  {
   "cell_type": "code",
   "execution_count": 214,
   "metadata": {},
   "outputs": [],
   "source": [
    "model = Sequential()\n",
    "\n",
    "model.add(Dense(246,activation='relu'))\n",
    "model.add(Dropout(0.3))\n",
    "model.add(Dense(123,activation='relu'))\n",
    "model.add(Dropout(0.3))\n",
    "\n",
    "model.add(Dense(1,activation='sigmoid'))\n",
    "\n",
    "model.compile('adam',loss='binary_crossentropy',metrics=['accuracy'])\n"
   ]
  },
  {
   "cell_type": "code",
   "execution_count": 215,
   "metadata": {},
   "outputs": [],
   "source": [
    "from tensorflow.keras.callbacks import EarlyStopping"
   ]
  },
  {
   "cell_type": "code",
   "execution_count": 216,
   "metadata": {},
   "outputs": [],
   "source": [
    "early = EarlyStopping(patience=5)"
   ]
  },
  {
   "cell_type": "code",
   "execution_count": 217,
   "metadata": {},
   "outputs": [
    {
     "name": "stdout",
     "output_type": "stream",
     "text": [
      "Train on 83228 samples, validate on 35670 samples\n",
      "Epoch 1/10\n",
      "83228/83228 [==============================] - 15s 174us/sample - loss: 1.8084 - accuracy: 0.6272 - val_loss: 0.6100 - val_accuracy: 0.6739\n",
      "Epoch 2/10\n",
      "83228/83228 [==============================] - 13s 150us/sample - loss: 0.5905 - accuracy: 0.6692 - val_loss: 0.3379 - val_accuracy: 0.8803\n",
      "Epoch 3/10\n",
      "83228/83228 [==============================] - 13s 153us/sample - loss: 0.1782 - accuracy: 0.9322 - val_loss: 0.0049 - val_accuracy: 0.9994\n",
      "Epoch 4/10\n",
      "83228/83228 [==============================] - 13s 155us/sample - loss: 0.0429 - accuracy: 0.9872 - val_loss: 0.0019 - val_accuracy: 0.9998\n",
      "Epoch 5/10\n",
      "83228/83228 [==============================] - 12s 146us/sample - loss: 0.0477 - accuracy: 0.9842 - val_loss: 0.0016 - val_accuracy: 0.9996\n",
      "Epoch 6/10\n",
      "83228/83228 [==============================] - 13s 152us/sample - loss: 0.0395 - accuracy: 0.9820 - val_loss: 0.0036 - val_accuracy: 0.9998\n",
      "Epoch 7/10\n",
      "83228/83228 [==============================] - 12s 147us/sample - loss: 0.1014 - accuracy: 0.9642 - val_loss: 0.0338 - val_accuracy: 0.9998\n",
      "Epoch 8/10\n",
      "83228/83228 [==============================] - 13s 153us/sample - loss: 0.1363 - accuracy: 0.9659 - val_loss: 0.0338 - val_accuracy: 0.9999\n",
      "Epoch 9/10\n",
      "83228/83228 [==============================] - 13s 153us/sample - loss: 0.1371 - accuracy: 0.9656 - val_loss: 0.0321 - val_accuracy: 0.9998\n",
      "Epoch 10/10\n",
      "83228/83228 [==============================] - 13s 155us/sample - loss: 0.2287 - accuracy: 0.9262 - val_loss: 0.0995 - val_accuracy: 0.9995\n"
     ]
    },
    {
     "data": {
      "text/plain": [
       "<tensorflow.python.keras.callbacks.History at 0x20a26eb1b08>"
      ]
     },
     "execution_count": 217,
     "metadata": {},
     "output_type": "execute_result"
    }
   ],
   "source": [
    "model.fit(x=X_train.values,y=y_train.values,validation_data=(X_test,y_test),batch_size=64,epochs=10,verbose=1,callbacks=[early])"
   ]
  },
  {
   "cell_type": "code",
   "execution_count": 232,
   "metadata": {},
   "outputs": [],
   "source": [
    "metrics = pd.DataFrame(model.history.history)"
   ]
  },
  {
   "cell_type": "code",
   "execution_count": 234,
   "metadata": {},
   "outputs": [
    {
     "data": {
      "text/html": [
       "<div>\n",
       "<style scoped>\n",
       "    .dataframe tbody tr th:only-of-type {\n",
       "        vertical-align: middle;\n",
       "    }\n",
       "\n",
       "    .dataframe tbody tr th {\n",
       "        vertical-align: top;\n",
       "    }\n",
       "\n",
       "    .dataframe thead th {\n",
       "        text-align: right;\n",
       "    }\n",
       "</style>\n",
       "<table border=\"1\" class=\"dataframe\">\n",
       "  <thead>\n",
       "    <tr style=\"text-align: right;\">\n",
       "      <th></th>\n",
       "      <th>loss</th>\n",
       "      <th>accuracy</th>\n",
       "      <th>val_loss</th>\n",
       "      <th>val_accuracy</th>\n",
       "    </tr>\n",
       "  </thead>\n",
       "  <tbody>\n",
       "    <tr>\n",
       "      <th>0</th>\n",
       "      <td>1.808375</td>\n",
       "      <td>0.627157</td>\n",
       "      <td>0.609982</td>\n",
       "      <td>0.673900</td>\n",
       "    </tr>\n",
       "    <tr>\n",
       "      <th>1</th>\n",
       "      <td>0.590452</td>\n",
       "      <td>0.669174</td>\n",
       "      <td>0.337894</td>\n",
       "      <td>0.880292</td>\n",
       "    </tr>\n",
       "    <tr>\n",
       "      <th>2</th>\n",
       "      <td>0.178202</td>\n",
       "      <td>0.932222</td>\n",
       "      <td>0.004860</td>\n",
       "      <td>0.999355</td>\n",
       "    </tr>\n",
       "    <tr>\n",
       "      <th>3</th>\n",
       "      <td>0.042902</td>\n",
       "      <td>0.987180</td>\n",
       "      <td>0.001928</td>\n",
       "      <td>0.999776</td>\n",
       "    </tr>\n",
       "    <tr>\n",
       "      <th>4</th>\n",
       "      <td>0.047670</td>\n",
       "      <td>0.984236</td>\n",
       "      <td>0.001628</td>\n",
       "      <td>0.999608</td>\n",
       "    </tr>\n",
       "    <tr>\n",
       "      <th>5</th>\n",
       "      <td>0.039535</td>\n",
       "      <td>0.982049</td>\n",
       "      <td>0.003585</td>\n",
       "      <td>0.999832</td>\n",
       "    </tr>\n",
       "    <tr>\n",
       "      <th>6</th>\n",
       "      <td>0.101420</td>\n",
       "      <td>0.964183</td>\n",
       "      <td>0.033804</td>\n",
       "      <td>0.999804</td>\n",
       "    </tr>\n",
       "    <tr>\n",
       "      <th>7</th>\n",
       "      <td>0.136264</td>\n",
       "      <td>0.965913</td>\n",
       "      <td>0.033839</td>\n",
       "      <td>0.999888</td>\n",
       "    </tr>\n",
       "    <tr>\n",
       "      <th>8</th>\n",
       "      <td>0.137109</td>\n",
       "      <td>0.965625</td>\n",
       "      <td>0.032115</td>\n",
       "      <td>0.999832</td>\n",
       "    </tr>\n",
       "    <tr>\n",
       "      <th>9</th>\n",
       "      <td>0.228712</td>\n",
       "      <td>0.926179</td>\n",
       "      <td>0.099501</td>\n",
       "      <td>0.999523</td>\n",
       "    </tr>\n",
       "  </tbody>\n",
       "</table>\n",
       "</div>"
      ],
      "text/plain": [
       "       loss  accuracy  val_loss  val_accuracy\n",
       "0  1.808375  0.627157  0.609982      0.673900\n",
       "1  0.590452  0.669174  0.337894      0.880292\n",
       "2  0.178202  0.932222  0.004860      0.999355\n",
       "3  0.042902  0.987180  0.001928      0.999776\n",
       "4  0.047670  0.984236  0.001628      0.999608\n",
       "5  0.039535  0.982049  0.003585      0.999832\n",
       "6  0.101420  0.964183  0.033804      0.999804\n",
       "7  0.136264  0.965913  0.033839      0.999888\n",
       "8  0.137109  0.965625  0.032115      0.999832\n",
       "9  0.228712  0.926179  0.099501      0.999523"
      ]
     },
     "execution_count": 234,
     "metadata": {},
     "output_type": "execute_result"
    }
   ],
   "source": [
    "metrics"
   ]
  },
  {
   "cell_type": "code",
   "execution_count": 235,
   "metadata": {},
   "outputs": [
    {
     "data": {
      "text/plain": [
       "<matplotlib.axes._subplots.AxesSubplot at 0x20a2598a688>"
      ]
     },
     "execution_count": 235,
     "metadata": {},
     "output_type": "execute_result"
    },
    {
     "data": {
      "image/png": "[encoded data removed]",
      "text/plain": [
       "<Figure size 432x288 with 1 Axes>"
      ]
     },
     "metadata": {},
     "output_type": "display_data"
    }
   ],
   "source": [
    "metrics[['loss','val_loss']].plot()"
   ]
  },
  {
   "cell_type": "code",
   "execution_count": 237,
   "metadata": {},
   "outputs": [
    {
     "data": {
      "text/plain": [
       "<matplotlib.axes._subplots.AxesSubplot at 0x20a31310408>"
      ]
     },
     "execution_count": 237,
     "metadata": {},
     "output_type": "execute_result"
    },
    {
     "data": {
      "image/png": "[encoded data removed]",
      "text/plain": [
       "<Figure size 432x288 with 1 Axes>"
      ]
     },
     "metadata": {},
     "output_type": "display_data"
    }
   ],
   "source": [
    "metrics[['accuracy','val_accuracy']].plot()"
   ]
  },
  {
   "cell_type": "code",
   "execution_count": 218,
   "metadata": {},
   "outputs": [
    {
     "name": "stdout",
     "output_type": "stream",
     "text": [
      "35670/35670 [==============================] - 5s 146us/sample - loss: 0.0995 - accuracy: 0.9995\n"
     ]
    },
    {
     "data": {
      "text/plain": [
       "[0.09950070815374445, 0.9995234]"
      ]
     },
     "execution_count": 218,
     "metadata": {},
     "output_type": "execute_result"
    }
   ],
   "source": [
    "model.evaluate(X_test,y_test)"
   ]
  },
  {
   "cell_type": "code",
   "execution_count": 224,
   "metadata": {},
   "outputs": [],
   "source": [
    "pred = model.predict_classes(X_test)"
   ]
  },
  {
   "cell_type": "code",
   "execution_count": 230,
   "metadata": {},
   "outputs": [],
   "source": [
    "from sklearn.metrics import confusion_matrix,classification_report"
   ]
  },
  {
   "cell_type": "code",
   "execution_count": 278,
   "metadata": {},
   "outputs": [
    {
     "data": {
      "text/plain": [
       "<matplotlib.axes._subplots.AxesSubplot at 0x20a7e913588>"
      ]
     },
     "execution_count": 278,
     "metadata": {},
     "output_type": "execute_result"
    },
    {
     "data": {
      "image/png": "[encoded data removed]",
      "text/plain": [
       "<Figure size 432x288 with 2 Axes>"
      ]
     },
     "metadata": {},
     "output_type": "display_data"
    }
   ],
   "source": [
    "sns.heatmap(confusion_matrix(y_test,pred),annot=True,cmap='magma')"
   ]
  },
  {
   "cell_type": "code",
   "execution_count": 231,
   "metadata": {},
   "outputs": [
    {
     "name": "stdout",
     "output_type": "stream",
     "text": [
      "              precision    recall  f1-score   support\n",
      "\n",
      "           0       1.00      1.00      1.00     22318\n",
      "           1       1.00      1.00      1.00     13352\n",
      "\n",
      "    accuracy                           1.00     35670\n",
      "   macro avg       1.00      1.00      1.00     35670\n",
      "weighted avg       1.00      1.00      1.00     35670\n",
      "\n"
     ]
    }
   ],
   "source": [
    "print(classification_report(y_test,pred))"
   ]
  },
  {
   "cell_type": "code",
   "execution_count": 258,
   "metadata": {},
   "outputs": [
    {
     "data": {
      "text/plain": [
       "lead_time                         103.0\n",
       "arrival_date_year                2016.0\n",
       "arrival_date_month                 10.0\n",
       "arrival_date_week_number           43.0\n",
       "arrival_date_day_of_month          21.0\n",
       "                                  ...  \n",
       "customer_type_Transient             1.0\n",
       "customer_type_Transient-Party       0.0\n",
       "reservation_status_Canceled         1.0\n",
       "reservation_status_Check-Out        0.0\n",
       "reservation_status_No-Show          0.0\n",
       "Name: 59146, Length: 246, dtype: float64"
      ]
     },
     "execution_count": 258,
     "metadata": {},
     "output_type": "execute_result"
    }
   ],
   "source": [
    "n = 588\n",
    "ex = X_test.iloc[n]\n",
    "ex"
   ]
  },
  {
   "cell_type": "code",
   "execution_count": 259,
   "metadata": {},
   "outputs": [
    {
     "data": {
      "text/plain": [
       "array([[0.13975577, 0.5       , 0.81818182, 0.80769231, 0.66666667,\n",
       "        0.0625    , 0.04878049, 0.04      , 0.        , 0.        ,\n",
       "        0.        , 0.        , 0.        , 0.        , 0.        ,\n",
       "        0.02565118, 0.        , 0.2       , 1.        , 0.        ,\n",
       "        1.        , 0.        , 0.        , 0.        , 0.        ,\n",
       "        0.        , 0.        , 0.        , 0.        , 0.        ,\n",
       "        0.        , 0.        , 0.        , 0.        , 0.        ,\n",
       "        0.        , 0.        , 0.        , 0.        , 0.        ,\n",
       "        0.        , 0.        , 0.        , 0.        , 0.        ,\n",
       "        0.        , 0.        , 0.        , 0.        , 0.        ,\n",
       "        0.        , 0.        , 0.        , 0.        , 0.        ,\n",
       "        0.        , 0.        , 0.        , 0.        , 0.        ,\n",
       "        0.        , 0.        , 0.        , 0.        , 0.        ,\n",
       "        0.        , 0.        , 0.        , 0.        , 0.        ,\n",
       "        0.        , 0.        , 0.        , 0.        , 0.        ,\n",
       "        0.        , 0.        , 0.        , 0.        , 0.        ,\n",
       "        0.        , 1.        , 0.        , 0.        , 0.        ,\n",
       "        0.        , 0.        , 0.        , 0.        , 0.        ,\n",
       "        0.        , 0.        , 0.        , 0.        , 0.        ,\n",
       "        0.        , 0.        , 0.        , 0.        , 0.        ,\n",
       "        0.        , 0.        , 0.        , 0.        , 0.        ,\n",
       "        0.        , 0.        , 0.        , 0.        , 0.        ,\n",
       "        0.        , 0.        , 0.        , 0.        , 0.        ,\n",
       "        0.        , 0.        , 0.        , 0.        , 0.        ,\n",
       "        0.        , 0.        , 0.        , 0.        , 0.        ,\n",
       "        0.        , 0.        , 0.        , 0.        , 0.        ,\n",
       "        0.        , 0.        , 0.        , 0.        , 0.        ,\n",
       "        0.        , 0.        , 0.        , 0.        , 0.        ,\n",
       "        0.        , 0.        , 0.        , 0.        , 0.        ,\n",
       "        0.        , 0.        , 0.        , 0.        , 0.        ,\n",
       "        0.        , 0.        , 0.        , 0.        , 0.        ,\n",
       "        0.        , 0.        , 0.        , 0.        , 0.        ,\n",
       "        0.        , 0.        , 0.        , 0.        , 0.        ,\n",
       "        0.        , 0.        , 0.        , 0.        , 0.        ,\n",
       "        0.        , 0.        , 0.        , 0.        , 0.        ,\n",
       "        0.        , 0.        , 0.        , 0.        , 0.        ,\n",
       "        0.        , 0.        , 0.        , 0.        , 0.        ,\n",
       "        0.        , 0.        , 0.        , 0.        , 0.        ,\n",
       "        0.        , 0.        , 0.        , 0.        , 0.        ,\n",
       "        0.        , 0.        , 0.        , 0.        , 0.        ,\n",
       "        0.        , 0.        , 0.        , 0.        , 0.        ,\n",
       "        0.        , 0.        , 0.        , 1.        , 0.        ,\n",
       "        0.        , 0.        , 1.        , 0.        , 0.        ,\n",
       "        0.        , 0.        , 1.        , 0.        , 0.        ,\n",
       "        0.        , 0.        , 0.        , 0.        , 0.        ,\n",
       "        0.        , 0.        , 1.        , 0.        , 0.        ,\n",
       "        0.        , 0.        , 0.        , 0.        , 0.        ,\n",
       "        0.        , 1.        , 0.        , 0.        , 0.        ,\n",
       "        0.        , 1.        , 0.        , 1.        , 0.        ,\n",
       "        0.        ]])"
      ]
     },
     "execution_count": 259,
     "metadata": {},
     "output_type": "execute_result"
    }
   ],
   "source": [
    "ex = scaler.transform(ex.values.reshape(-1, 246))\n",
    "ex"
   ]
  },
  {
   "cell_type": "code",
   "execution_count": 260,
   "metadata": {},
   "outputs": [
    {
     "data": {
      "text/plain": [
       "array([[1]])"
      ]
     },
     "execution_count": 260,
     "metadata": {},
     "output_type": "execute_result"
    }
   ],
   "source": [
    "model.predict_classes(ex)"
   ]
  },
  {
   "cell_type": "code",
   "execution_count": 261,
   "metadata": {},
   "outputs": [
    {
     "data": {
      "text/plain": [
       "1"
      ]
     },
     "execution_count": 261,
     "metadata": {},
     "output_type": "execute_result"
    }
   ],
   "source": [
    "y_test.iloc[n]"
   ]
  },
  {
   "cell_type": "code",
   "execution_count": 263,
   "metadata": {},
   "outputs": [],
   "source": [
    "from tensorflow.keras.models import save_model"
   ]
  },
  {
   "cell_type": "code",
   "execution_count": 265,
   "metadata": {},
   "outputs": [],
   "source": [
    "model.save(\"model_wtht_scaling.h5\")"
   ]
  },
  {
   "cell_type": "code",
   "execution_count": 266,
   "metadata": {},
   "outputs": [],
   "source": [
    "from sklearn.preprocessing import MinMaxScaler"
   ]
  },
  {
   "cell_type": "code",
   "execution_count": 267,
   "metadata": {},
   "outputs": [],
   "source": [
    "X_train = scaler.fit_transform(X_train)\n",
    "X_test = scaler.transform(X_test)\n"
   ]
  },
  {
   "cell_type": "code",
   "execution_count": 270,
   "metadata": {},
   "outputs": [],
   "source": [
    "model = Sequential()\n",
    "\n",
    "model.add(Dense(246,activation='relu'))\n",
    "model.add(Dropout(0.3))\n",
    "model.add(Dense(123,activation='relu'))\n",
    "model.add(Dropout(0.3))\n",
    "\n",
    "model.add(Dense(1,activation='sigmoid'))\n",
    "\n",
    "model.compile('adam',loss='binary_crossentropy',metrics=['accuracy'])\n"
   ]
  },
  {
   "cell_type": "code",
   "execution_count": 271,
   "metadata": {},
   "outputs": [
    {
     "name": "stdout",
     "output_type": "stream",
     "text": [
      "Train on 83228 samples, validate on 35670 samples\n",
      "Epoch 1/10\n",
      "83228/83228 [==============================] - 14s 173us/sample - loss: 0.0087 - accuracy: 0.9969 - val_loss: 1.1657e-06 - val_accuracy: 1.0000\n",
      "Epoch 2/10\n",
      "83228/83228 [==============================] - 13s 157us/sample - loss: 7.2386e-06 - accuracy: 1.0000 - val_loss: 1.6573e-07 - val_accuracy: 1.0000\n",
      "Epoch 3/10\n",
      "83228/83228 [==============================] - 14s 170us/sample - loss: 2.1987e-06 - accuracy: 1.0000 - val_loss: 4.5580e-08 - val_accuracy: 1.0000\n",
      "Epoch 4/10\n",
      "83228/83228 [==============================] - 14s 165us/sample - loss: 8.1839e-07 - accuracy: 1.0000 - val_loss: 1.0705e-08 - val_accuracy: 1.0000\n",
      "Epoch 5/10\n",
      "83228/83228 [==============================] - 12s 148us/sample - loss: 3.3683e-07 - accuracy: 1.0000 - val_loss: 3.6428e-09 - val_accuracy: 1.0000\n",
      "Epoch 6/10\n",
      "83228/83228 [==============================] - 12s 146us/sample - loss: 1.6777e-07 - accuracy: 1.0000 - val_loss: 1.2194e-09 - val_accuracy: 1.0000\n",
      "Epoch 7/10\n",
      "83228/83228 [==============================] - 12s 146us/sample - loss: 8.5008e-08 - accuracy: 1.0000 - val_loss: 4.4630e-10 - val_accuracy: 1.0000\n",
      "Epoch 8/10\n",
      "83228/83228 [==============================] - 12s 145us/sample - loss: 8.9831e-08 - accuracy: 1.0000 - val_loss: 1.7690e-10 - val_accuracy: 1.0000\n",
      "Epoch 9/10\n",
      "83228/83228 [==============================] - 14s 171us/sample - loss: 2.7879e-08 - accuracy: 1.0000 - val_loss: 5.4726e-11 - val_accuracy: 1.0000\n",
      "Epoch 10/10\n",
      "83228/83228 [==============================] - 14s 171us/sample - loss: 1.0201e-08 - accuracy: 1.0000 - val_loss: 2.6245e-11 - val_accuracy: 1.0000\n"
     ]
    },
    {
     "data": {
      "text/plain": [
       "<tensorflow.python.keras.callbacks.History at 0x20a7e512a08>"
      ]
     },
     "execution_count": 271,
     "metadata": {},
     "output_type": "execute_result"
    }
   ],
   "source": [
    "model.fit(x=X_train,y=y_train.values,validation_data=(X_test,y_test),batch_size=64,epochs=10,verbose=1,callbacks=[early])"
   ]
  },
  {
   "cell_type": "code",
   "execution_count": 272,
   "metadata": {},
   "outputs": [],
   "source": [
    "metrics = pd.DataFrame(model.history.history)"
   ]
  },
  {
   "cell_type": "code",
   "execution_count": 273,
   "metadata": {},
   "outputs": [
    {
     "data": {
      "text/plain": [
       "<matplotlib.axes._subplots.AxesSubplot at 0x20a7e4baa08>"
      ]
     },
     "execution_count": 273,
     "metadata": {},
     "output_type": "execute_result"
    },
    {
     "data": {
      "image/png": "[encoded data removed]",
      "text/plain": [
       "<Figure size 432x288 with 1 Axes>"
      ]
     },
     "metadata": {},
     "output_type": "display_data"
    }
   ],
   "source": [
    "metrics[['loss','val_loss']].plot()"
   ]
  },
  {
   "cell_type": "code",
   "execution_count": 279,
   "metadata": {},
   "outputs": [
    {
     "name": "stdout",
     "output_type": "stream",
     "text": [
      "35670/35670 [==============================] - 6s 162us/sample - loss: 2.6245e-11 - accuracy: 1.0000\n"
     ]
    },
    {
     "data": {
      "text/plain": [
       "[2.6245322547162295e-11, 1.0]"
      ]
     },
     "execution_count": 279,
     "metadata": {},
     "output_type": "execute_result"
    }
   ],
   "source": [
    "model.evaluate(X_test,y_test)"
   ]
  },
  {
   "cell_type": "code",
   "execution_count": 280,
   "metadata": {},
   "outputs": [],
   "source": [
    "pred = model.predict_classes(X_test)"
   ]
  },
  {
   "cell_type": "code",
   "execution_count": 281,
   "metadata": {},
   "outputs": [
    {
     "data": {
      "text/plain": [
       "<matplotlib.axes._subplots.AxesSubplot at 0x20a7e9c2888>"
      ]
     },
     "execution_count": 281,
     "metadata": {},
     "output_type": "execute_result"
    },
    {
     "data": {
      "image/png": "[encoded data removed]",
      "text/plain": [
       "<Figure size 432x288 with 2 Axes>"
      ]
     },
     "metadata": {},
     "output_type": "display_data"
    }
   ],
   "source": [
    "sns.heatmap(confusion_matrix(y_test,pred),annot=True,cmap=\"magma\")"
   ]
  },
  {
   "cell_type": "code",
   "execution_count": 282,
   "metadata": {},
   "outputs": [],
   "source": [
    "model.save(\"mode_scaled.h5\")"
   ]
  },
  {
   "cell_type": "markdown",
   "metadata": {},
   "source": [
    "# Fin."
   ]
  }
 ],
 "metadata": {
  "kernelspec": {
   "display_name": "Python 3",
   "language": "python",
   "name": "python3"
  },
  "language_info": {
   "codemirror_mode": {
    "name": "ipython",
    "version": 3
   },
   "file_extension": ".py",
   "mimetype": "text/x-python",
   "name": "python",
   "nbconvert_exporter": "python",
   "pygments_lexer": "ipython3",
   "version": "3.7.7"
  }
 },
 "nbformat": 4,
 "nbformat_minor": 4
}
